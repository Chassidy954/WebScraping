{
 "cells": [
  {
   "cell_type": "code",
   "execution_count": null,
   "id": "36d52600-a1d0-4ed7-b027-b12696de8184",
   "metadata": {},
   "outputs": [],
   "source": [
    "#This project demonstrates proficiency in Python programming including web scraping techniques."
   ]
  },
  {
   "cell_type": "code",
   "execution_count": 54,
   "id": "5c688b0f-9778-4778-9058-65450460b83f",
   "metadata": {},
   "outputs": [],
   "source": [
    "from bs4 import BeautifulSoup\n",
    "import requests"
   ]
  },
  {
   "cell_type": "code",
   "execution_count": 55,
   "id": "e4043d27-2db9-49c0-9ce7-fef81b554fbf",
   "metadata": {},
   "outputs": [],
   "source": [
    "url = 'https://en.wikipedia.org/wiki/Total_fertility_rate'\n",
    "\n",
    "page = requests.get(url)\n",
    "\n",
    "soup = BeautifulSoup(page.text, 'html')"
   ]
  },
  {
   "cell_type": "code",
   "execution_count": 56,
   "id": "3adfb4c0-74ec-4fb6-a9dd-22a41b86433a",
   "metadata": {},
   "outputs": [],
   "source": [
    "TFRGlobalTable = soup.find('table', class_='wikitable mw-collapsible')"
   ]
  },
  {
   "cell_type": "code",
   "execution_count": 57,
   "id": "b3133352-9fbf-45cd-b242-9954cb78ed14",
   "metadata": {},
   "outputs": [],
   "source": [
    "h = soup.find('table', class_='wikitable mw-collapsible')"
   ]
  },
  {
   "cell_type": "code",
   "execution_count": 58,
   "id": "751054e7-fa0b-46e4-8511-50abe3235c58",
   "metadata": {},
   "outputs": [
    {
     "name": "stdout",
     "output_type": "stream",
     "text": [
      "['Years', 'Global Average', 'More developed regions', 'Less developed regions']\n"
     ]
    }
   ],
   "source": [
    "#find titles\n",
    "TRlist = TFRGlobalTable.find_all('tr')\n",
    "\n",
    "titles = []\n",
    "for tr in TRlist[1:2]:\n",
    "    data_elements = tr.find_all('td')  \n",
    "    if data_elements:\n",
    "        for data_element in data_elements:\n",
    "            titles.append(data_element.text.strip()) \n",
    "\n",
    "print(titles)"
   ]
  },
  {
   "cell_type": "code",
   "execution_count": 59,
   "id": "4b6debce-0d53-431b-90c0-8dce0676d558",
   "metadata": {},
   "outputs": [],
   "source": [
    "import pandas as pd"
   ]
  },
  {
   "cell_type": "code",
   "execution_count": 60,
   "id": "92a7fe11-69e2-4912-a13d-bcbbaa973030",
   "metadata": {},
   "outputs": [],
   "source": [
    "df = pd.DataFrame(columns = titles)"
   ]
  },
  {
   "cell_type": "code",
   "execution_count": 82,
   "id": "42cd46c1-1539-4e39-8943-44291a5e6d25",
   "metadata": {},
   "outputs": [],
   "source": [
    "column_data = TFRGlobalTable.find_all('tr')"
   ]
  },
  {
   "cell_type": "code",
   "execution_count": 62,
   "id": "05ad3300-4efc-4e22-87c7-3661fb0acf54",
   "metadata": {
    "scrolled": true
   },
   "outputs": [
    {
     "data": {
      "text/html": [
       "<div>\n",
       "<style scoped>\n",
       "    .dataframe tbody tr th:only-of-type {\n",
       "        vertical-align: middle;\n",
       "    }\n",
       "\n",
       "    .dataframe tbody tr th {\n",
       "        vertical-align: top;\n",
       "    }\n",
       "\n",
       "    .dataframe thead th {\n",
       "        text-align: right;\n",
       "    }\n",
       "</style>\n",
       "<table border=\"1\" class=\"dataframe\">\n",
       "  <thead>\n",
       "    <tr style=\"text-align: right;\">\n",
       "      <th></th>\n",
       "      <th>Years</th>\n",
       "      <th>Global Average</th>\n",
       "      <th>More developed regions</th>\n",
       "      <th>Less developed regions</th>\n",
       "    </tr>\n",
       "  </thead>\n",
       "  <tbody>\n",
       "    <tr>\n",
       "      <th>0</th>\n",
       "      <td>1960–1965</td>\n",
       "      <td>4.70</td>\n",
       "      <td>2.71</td>\n",
       "      <td>5.64</td>\n",
       "    </tr>\n",
       "    <tr>\n",
       "      <th>1</th>\n",
       "      <td>1965–1970</td>\n",
       "      <td>5.08</td>\n",
       "      <td>2.51</td>\n",
       "      <td>6.23</td>\n",
       "    </tr>\n",
       "    <tr>\n",
       "      <th>2</th>\n",
       "      <td>1970–1975</td>\n",
       "      <td>4.83</td>\n",
       "      <td>2.32</td>\n",
       "      <td>5.87</td>\n",
       "    </tr>\n",
       "    <tr>\n",
       "      <th>3</th>\n",
       "      <td>1975–1980</td>\n",
       "      <td>4.08</td>\n",
       "      <td>2.01</td>\n",
       "      <td>4.88</td>\n",
       "    </tr>\n",
       "    <tr>\n",
       "      <th>4</th>\n",
       "      <td>1980–1985</td>\n",
       "      <td>3.75</td>\n",
       "      <td>1.89</td>\n",
       "      <td>4.40</td>\n",
       "    </tr>\n",
       "    <tr>\n",
       "      <th>5</th>\n",
       "      <td>1985–1990</td>\n",
       "      <td>3.52</td>\n",
       "      <td>1.82</td>\n",
       "      <td>4.03</td>\n",
       "    </tr>\n",
       "    <tr>\n",
       "      <th>6</th>\n",
       "      <td>1990–1995</td>\n",
       "      <td>3.31</td>\n",
       "      <td>1.78</td>\n",
       "      <td>3.71</td>\n",
       "    </tr>\n",
       "    <tr>\n",
       "      <th>7</th>\n",
       "      <td>1995–2000</td>\n",
       "      <td>2.88</td>\n",
       "      <td>1.58</td>\n",
       "      <td>3.18</td>\n",
       "    </tr>\n",
       "    <tr>\n",
       "      <th>8</th>\n",
       "      <td>2000–2005</td>\n",
       "      <td>2.73</td>\n",
       "      <td>1.57</td>\n",
       "      <td>2.98</td>\n",
       "    </tr>\n",
       "    <tr>\n",
       "      <th>9</th>\n",
       "      <td>2005–2010</td>\n",
       "      <td>2.62</td>\n",
       "      <td>1.61</td>\n",
       "      <td>2.81</td>\n",
       "    </tr>\n",
       "    <tr>\n",
       "      <th>10</th>\n",
       "      <td>2010–2015</td>\n",
       "      <td>2.59</td>\n",
       "      <td>1.69</td>\n",
       "      <td>2.74</td>\n",
       "    </tr>\n",
       "    <tr>\n",
       "      <th>11</th>\n",
       "      <td>2015–2020</td>\n",
       "      <td>2.52</td>\n",
       "      <td>1.67</td>\n",
       "      <td>2.66</td>\n",
       "    </tr>\n",
       "  </tbody>\n",
       "</table>\n",
       "</div>"
      ],
      "text/plain": [
       "        Years Global Average More developed regions Less developed regions\n",
       "0   1960–1965           4.70                   2.71                   5.64\n",
       "1   1965–1970           5.08                   2.51                   6.23\n",
       "2   1970–1975           4.83                   2.32                   5.87\n",
       "3   1975–1980           4.08                   2.01                   4.88\n",
       "4   1980–1985           3.75                   1.89                   4.40\n",
       "5   1985–1990           3.52                   1.82                   4.03\n",
       "6   1990–1995           3.31                   1.78                   3.71\n",
       "7   1995–2000           2.88                   1.58                   3.18\n",
       "8   2000–2005           2.73                   1.57                   2.98\n",
       "9   2005–2010           2.62                   1.61                   2.81\n",
       "10  2010–2015           2.59                   1.69                   2.74\n",
       "11  2015–2020           2.52                   1.67                   2.66"
      ]
     },
     "execution_count": 62,
     "metadata": {},
     "output_type": "execute_result"
    }
   ],
   "source": [
    "for row in column_data[4:16]:\n",
    "    row_data = row.find_all('td')\n",
    "    individual_row = [data.text.strip().replace('â€“', '-') for data in row_data]\n",
    "    length=len(df)\n",
    "    df.loc[length] = individual_row\n",
    "df"
   ]
  }
 ],
 "metadata": {
  "kernelspec": {
   "display_name": "Python 3 (ipykernel)",
   "language": "python",
   "name": "python3"
  },
  "language_info": {
   "codemirror_mode": {
    "name": "ipython",
    "version": 3
   },
   "file_extension": ".py",
   "mimetype": "text/x-python",
   "name": "python",
   "nbconvert_exporter": "python",
   "pygments_lexer": "ipython3",
   "version": "3.13.1"
  }
 },
 "nbformat": 4,
 "nbformat_minor": 5
}
